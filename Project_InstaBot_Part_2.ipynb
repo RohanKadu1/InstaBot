{
 "cells": [
  {
   "cell_type": "markdown",
   "metadata": {},
   "source": [
    "# InstaBot - Part 2"
   ]
  },
  {
   "cell_type": "code",
   "execution_count": 2,
   "metadata": {},
   "outputs": [],
   "source": [
    "from selenium import webdriver\n",
    "from selenium.webdriver.chrome.service import Service\n",
    "from webdriver_manager.chrome import ChromeDriverManager\n",
    "from selenium.webdriver.support import expected_conditions as EC\n",
    "from selenium.webdriver.support.ui import WebDriverWait\n",
    "from selenium.webdriver.common.by import By\n",
    "from selenium.common.exceptions import TimeoutException\n",
    "from time import sleep\n",
    "from datetime import datetime, timedelta\n",
    "import matplotlib.pyplot as plt\n",
    "import pandas as pd"
   ]
  },
  {
   "cell_type": "code",
   "execution_count": 30,
   "metadata": {},
   "outputs": [],
   "source": [
    "#opening the browser\n",
    "driver = webdriver.Chrome(service=Service(ChromeDriverManager().install()))\n",
    "driver.maximize_window()\n",
    "#opening instagram\n",
    "driver.get('https://www.instagram.com/')\n",
    "#initializing  wait object\n",
    "wait = WebDriverWait(driver, 10)"
   ]
  },
  {
   "cell_type": "code",
   "execution_count": 4,
   "metadata": {},
   "outputs": [],
   "source": [
    "#  Logs in to Instagram using the provided username and password\n",
    "def LogIn(username, password):\n",
    "    # Find the username textbox and send the username\n",
    "    username_textbox = wait.until(EC.presence_of_element_located((By.NAME, 'username')))\n",
    "    username_textbox.send_keys(username)\n",
    "    # Find the password textbox and send the password\n",
    "    password_textbox = wait.until(EC.presence_of_element_located((By.NAME, 'password')))\n",
    "    password_textbox.send_keys(password)\n",
    "    # Submit the login form\n",
    "    password_textbox.submit()\n",
    "    # Wait for 5 seconds\n",
    "    sleep(5)\n",
    "    # Handle pop-ups after login (Save login info and Turn on notifications)\n",
    "    try:\n",
    "        pop1 = wait.until(EC.presence_of_element_located((By.CLASS_NAME, '_ac8f')))\n",
    "        pop1.click()\n",
    "    except:\n",
    "        pass\n",
    "    try:\n",
    "        pop2 = wait.until(EC.presence_of_element_located((By.XPATH, '//button[@class= \"_a9-- _a9_1\"]')))\n",
    "        pop2.click()\n",
    "    except:\n",
    "        pass"
   ]
  },
  {
   "cell_type": "code",
   "execution_count": 5,
   "metadata": {},
   "outputs": [],
   "source": [
    "# Opens the profile of a specific user on Instagram.\n",
    "def Open_Profile(username):\n",
    "    # Find and click the search element\n",
    "    search = wait.until(EC.presence_of_element_located((By.XPATH, '//*[@aria-label = \"Search\"]')))\n",
    "    search.click()\n",
    "    # Find the search box element and enter the 'username' parameter\n",
    "    search_box = wait.until(EC.presence_of_element_located((By.XPATH, '//input[@placeholder = \"Search\"]')))\n",
    "    search_box.send_keys(username)\n",
    "    # Wait for 2 seconds\n",
    "    sleep(2)\n",
    "    # Click on the first search result\n",
    "    wait.until(EC.presence_of_element_located((By.XPATH, '//div[@role = \"none\"]'))).click()\n",
    "    sleep(2)\n",
    "    try:\n",
    "        # If a search box clear button is present, click it to clear the search box\n",
    "        driver.find_element(By.XPATH, '//*[@aria-label = \"Clear the search box\"]').click()\n",
    "        search = wait.until(EC.presence_of_element_located((By.XPATH, '//*[@aria-label = \"Search\"]')))\n",
    "        search.click()\n",
    "    except:\n",
    "        # If the clear button or search element is not found, continue without clicking them\n",
    "        pass\n",
    "    sleep(5)"
   ]
  },
  {
   "cell_type": "code",
   "execution_count": 31,
   "metadata": {},
   "outputs": [],
   "source": [
    "#update your username and password here\n",
    "username = 'ramakadu0102@gmail.com'\n",
    "password = 'Rama@07113'"
   ]
  },
  {
   "cell_type": "code",
   "execution_count": 32,
   "metadata": {},
   "outputs": [],
   "source": [
    "#Login to your Instagram Handle\n",
    "LogIn(username,password)"
   ]
  },
  {
   "cell_type": "markdown",
   "metadata": {},
   "source": [
    "### Problem 1 : Analyse the habits of bloggers\n",
    "Now your friend has followed a lot of different food bloggers, he needs to analyse the habits of these bloggers.    \n",
    "1.From the list of instagram handles you obtained when you searched ‘food’ in previous project. Open the first 10 handles and find the top 5 which have the highest number of followers  \n",
    "2.Now Find the number of posts these handles have done in the previous 3 days.  \n",
    "3.Depict this information using a suitable graph.  "
   ]
  },
  {
   "cell_type": "markdown",
   "metadata": {},
   "source": [
    "##### 1.From the list of instagram handles you obtained when you searched ‘food’ in previous project. Open the first 10 handles and find the top 5 which have the highest number of followers"
   ]
  },
  {
   "cell_type": "code",
   "execution_count": 8,
   "metadata": {},
   "outputs": [],
   "source": [
    "#First 10 handles\n",
    "first_ten_handles = ['foodtalkindia','foodconnectindia','food_lunatic','foodnetwork','food52','yourfoodlab','insiderfood','foodhallindia','dilsefoodie','foodelhi']"
   ]
  },
  {
   "cell_type": "code",
   "execution_count": 9,
   "metadata": {},
   "outputs": [],
   "source": [
    "def Top_Five_Handles(username_lst):\n",
    "    # Dictionary to store usernames and their corresponding number of followers\n",
    "    dic = {}\n",
    "    for username in username_lst:\n",
    "        # Function to open the user's profile\n",
    "        Open_Profile(username)\n",
    "        # Extract the number of followers for the user\n",
    "        num_of_followers = int(wait.until(EC.presence_of_element_located((By.XPATH, '//li[@class = \"xl565be x1m39q7l x1uw6ca5 x2pgyrj\"]//span[@title]'))).get_attribute('title').replace(',', ''))\n",
    "        # Store the username and number of followers in the dictionary\n",
    "        dic[username] = num_of_followers\n",
    "    # Dictionary to store the top five handles and their number of followers\n",
    "    top_five = {}\n",
    "    count = 0\n",
    "    # Sort the dictionary by the number of followers in descending order\n",
    "    for handle in sorted(dic, key=dic.get, reverse=True):\n",
    "        # Add the handle and number of followers to the top five dictionary\n",
    "        top_five[handle] = dic[handle]\n",
    "        count += 1\n",
    "        if count >= 5:\n",
    "            # Break the loop if the top five handles have been added\n",
    "            break\n",
    "    return top_five"
   ]
  },
  {
   "cell_type": "code",
   "execution_count": 13,
   "metadata": {},
   "outputs": [
    {
     "name": "stdout",
     "output_type": "stream",
     "text": [
      "foodnetwork - 12737777\n",
      "food52 - 3625907\n",
      "insiderfood - 3183294\n",
      "yourfoodlab - 2709897\n",
      "dilsefoodie - 1108163\n"
     ]
    }
   ],
   "source": [
    "# Get the top five handles with the highest number of followers\n",
    "top_five_handles = Top_Five_Handles(first_ten_handles)\n",
    "# Print each handle and its corresponding number of followers\n",
    "for handle in top_five_handles:\n",
    "    print(handle,'-',top_five_handles[handle])"
   ]
  },
  {
   "cell_type": "markdown",
   "metadata": {},
   "source": [
    "##### 2.Now Find the number of posts these handles have done in the previous 3 days."
   ]
  },
  {
   "cell_type": "code",
   "execution_count": 14,
   "metadata": {},
   "outputs": [],
   "source": [
    "def Num_of_Posts(username, day):\n",
    "    # Open the user's profile\n",
    "    Open_Profile(username)\n",
    "    posts = wait.until(EC.presence_of_all_elements_located((By.XPATH,'//div[@class = \"_aabd _aa8k  _al3l\"]')))\n",
    "    # Loop through the posts to find the first non-pinned post and click it\n",
    "    for img in posts:\n",
    "        try:\n",
    "            # Check if the post is not a pinned post\n",
    "            if img.find_element(By.TAG_NAME, 'title').get_attribute('innerHTML') != 'Pinned post icon':\n",
    "                img.click()\n",
    "                break\n",
    "        except:\n",
    "            # Click on the post if an exception occurs (e.g., no such element found)\n",
    "            img.click()\n",
    "            break\n",
    "    sleep(2)\n",
    "    # Counter for the number of posts\n",
    "    posts_count = 0 \n",
    "    while True :\n",
    "        # Get the date string of the current post\n",
    "        date_string = wait.until(EC.presence_of_element_located((By.CLASS_NAME,'_aaqe'))).get_attribute('datetime')[:19]\n",
    "        # Convert the date string to a datetime object\n",
    "        date = datetime.strptime(date_string, \"%Y-%m-%dT%H:%M:%S\")\n",
    "        # Check if the difference between the current date and the post date is greater than the specified day\n",
    "        if (datetime.now() - date).days > day :\n",
    "            break\n",
    "        else :\n",
    "            # Increment the posts count\n",
    "            posts_count += 1\n",
    "        # Find and Click on the next post\n",
    "        next_image = wait.until(EC.presence_of_element_located((By.XPATH, '//div[@class = \" _aaqg _aaqh\"]')))\n",
    "        next_image.click()\n",
    "        sleep(2)\n",
    "    # Close the image viewer\n",
    "    close = wait.until(EC.presence_of_element_located((By.XPATH, '//div[@class = \"x10l6tqk x160vmok x1eu8d0j x1vjfegm\"]')))\n",
    "    close.click()\n",
    "    return posts_count"
   ]
  },
  {
   "cell_type": "code",
   "execution_count": 15,
   "metadata": {
    "scrolled": true
   },
   "outputs": [
    {
     "name": "stdout",
     "output_type": "stream",
     "text": [
      "Number of posts these handles have done in the previous 3 days : -\n",
      "foodnetwork 54\n",
      "food52 19\n",
      "insiderfood 3\n",
      "yourfoodlab 1\n",
      "dilsefoodie 8\n"
     ]
    }
   ],
   "source": [
    "# Dictionary to store the total post count for each handle\n",
    "total_post_count = {}\n",
    "for handle in top_five_handles :\n",
    "    # Get the number of posts for each handle in the previous 3 days\n",
    "    count = Num_of_Posts(handle, 3)\n",
    "    # Store the handle and its corresponding post count in the dictionary\n",
    "    total_post_count[handle] = count\n",
    "print('Number of posts these handles have done in the previous 3 days : -')\n",
    "for i in total_post_count:\n",
    "    # Print each handle and its corresponding post count\n",
    "    print(i,total_post_count[i])"
   ]
  },
  {
   "cell_type": "markdown",
   "metadata": {},
   "source": [
    "##### 3.Depict this information using a suitable graph."
   ]
  },
  {
   "cell_type": "code",
   "execution_count": 16,
   "metadata": {},
   "outputs": [
    {
     "data": {
      "image/png": "[encoded data removed]",
      "text/plain": [
       "<Figure size 640x480 with 1 Axes>"
      ]
     },
     "metadata": {},
     "output_type": "display_data"
    }
   ],
   "source": [
    "x = total_post_count.keys() # Get the usernames as x-axis values\n",
    "y = total_post_count.values() # Get the number of posts as y-axis values\n",
    "\n",
    "plt.bar(x,y)  # Create a bar chart with usernames and number of posts\n",
    "plt.xlabel('Username') # Set the label for the x-axis\n",
    "plt.ylabel('Number of posts in previous 3 days') # Set the label for the y-axis\n",
    "plt.xticks(rotation = 15) # Rotate the x-axis labels for better readability\n",
    "plt.title('Usernames vs Number of posts in previous 3 days') # Set the title of the chart\n",
    "plt.show() # Display the chart"
   ]
  },
  {
   "cell_type": "markdown",
   "metadata": {},
   "source": [
    "### Problem 2 : List of hashtags\n",
    "Your friend also needs a list of hashtags that he should use in his posts.  \n",
    "1.Open the 5 handles you obtained in the last question, and scrape the content of the first 10 posts of each handle.  \n",
    "2.Prepare a list of all words used in all the scraped posts and calculate the frequency of each word.  \n",
    "3.Create a csv file with two columns : the word and its frequency  \n",
    "4.Now, find the hashtags that were most popular among these bloggers  \n",
    "5.Plot a Pie Chart of the top 5 hashtags obtained and the number of times they were used by these bloggers in the scraped posts.  "
   ]
  },
  {
   "cell_type": "code",
   "execution_count": 17,
   "metadata": {},
   "outputs": [],
   "source": [
    "def Extract_Hashtags(usernames_list):\n",
    "    # List to store the extracted hashtags\n",
    "    hashtag_list = []\n",
    "    for username in usernames_list:\n",
    "        # Open the user's profile\n",
    "        Open_Profile(username)\n",
    "        first_post = wait.until(EC.presence_of_element_located((By.XPATH,'//div[@class = \"_aabd _aa8k  _al3l\"]')))\n",
    "        # Click on the first post\n",
    "        first_post.click()\n",
    "        sleep(2)\n",
    "        for i in range(10):\n",
    "            try:\n",
    "                post_hashtags = wait.until(EC.presence_of_all_elements_located((By.XPATH, '//a[@class = \"x1i10hfl xjbqb8w x6umtig x1b1mbwd xaqea5y xav7gou x9f619 x1ypdohk xt0psk2 xe8uvvx xdj266r x11i5rnm xat24cr x1mh8g0r xexx8yu x4uap5 x18d9i69 xkhd6sd x16tdsg8 x1hl2dhg xggy1nq x1a2a7pz  _aa9_ _a6hd\"]')))\n",
    "                for word in post_hashtags:\n",
    "                    # Append each hashtag to the hashtag list\n",
    "                    hashtag_list.append(word.text)\n",
    "            except: # If post does not have any hastags it will pass\n",
    "                pass\n",
    "            \n",
    "            next_image = wait.until(EC.presence_of_element_located((By.XPATH, '//div[@class = \" _aaqg _aaqh\"]')))\n",
    "            next_image.click() # Click on the next image\n",
    "            sleep(1)\n",
    "        close = wait.until(EC.presence_of_element_located((By.XPATH, '//div[@class = \"x10l6tqk x160vmok x1eu8d0j x1vjfegm\"]')))\n",
    "        close.click() # Close the image viewer\n",
    "    # Dictionary to store the count of each hashtag\n",
    "    dic = {}\n",
    "    for hashtag in hashtag_list:\n",
    "        dic[hashtag] = dic.get(hashtag, 0) + 1 # Increment the count of each hashtag\n",
    "    sorted_lists = [] # List to store the sorted hashtags and their counts\n",
    "    for i in sorted(dic, key=dic.get, reverse=True):\n",
    "        # Append each hashtag and its count as a sublist\n",
    "        sorted_lists.append([i,dic[i]])\n",
    "    return sorted_lists"
   ]
  },
  {
   "cell_type": "code",
   "execution_count": 18,
   "metadata": {
    "scrolled": true
   },
   "outputs": [
    {
     "name": "stdout",
     "output_type": "stream",
     "text": [
      "#f52community 20\n",
      "#dilsefoodie 11\n",
      "#f52grams 8\n",
      "#dilsecouple 6\n",
      "#food 5\n",
      "#StreamOnMax 3\n",
      "#GiveawayAlert 3\n",
      "#streetfood 3\n",
      "#foodie 3\n",
      "#dehradun 3\n",
      "#Outchefd 2\n",
      "#Food 2\n",
      "#McDonalds 2\n",
      "#ThumsUpBiryaniHunt 2\n",
      "#Toofanicombo 2\n",
      "#SwiggyVouchers 2\n",
      "#yourfoodlab 2\n",
      "#foodporn 2\n",
      "#sanjyotkeer 2\n",
      "#Watch 1\n",
      "#GroceryGames 1\n",
      "#pridemonth 1\n",
      "#GreatFoodTruckRace 1\n",
      "#BeatBobbyFlay 1\n",
      "#geniusrecipe 1\n",
      "#food52shop 1\n",
      "#Mukbang 1\n",
      "#Babydumplingg 1\n",
      "#TikTok 1\n",
      "#Delivery 1\n",
      "#NYC 1\n",
      "#DoorDash 1\n",
      "#UberEats 1\n",
      "#FoodTaster 1\n",
      "#Pizza 1\n",
      "#Cheese 1\n",
      "#Careers 1\n",
      "#hotdog 1\n",
      "#tiktokfood 1\n",
      "#cookout 1\n",
      "#SLOTDOG 1\n",
      "#JenniferAniston 1\n",
      "#CobbSalad 1\n",
      "#Salad 1\n",
      "#1035 1\n",
      "#MaryBerry 1\n",
      "#Scones 1\n",
      "#Baking 1\n",
      "#BakeOff 1\n",
      "#mcflurryhashbrownsanga 1\n",
      "#McFlurryHashbrown 1\n",
      "#TikTokTrends 1\n",
      "#Guinness 1\n",
      "#Foodscience 1\n",
      "#cake 1\n",
      "#costco 1\n",
      "#costcocake 1\n",
      "#Vietnam 1\n",
      "#replacement 1\n",
      "#goanfishcurry 1\n",
      "#ad 1\n",
      "#paidpartnership 1\n",
      "#kutchidabeli 1\n",
      "#afghanifood 1\n",
      "#katlambe 1\n",
      "#gedionthar 1\n",
      "#nonveg 1\n",
      "#bharadwaj 1\n",
      "#bakery 1\n",
      "#elloras 1\n",
      "#pakistan 1\n",
      "#dubai 1\n",
      "#bunmakhan 1\n",
      "#bunsamosa 1\n",
      "#tea 1\n",
      "#drinkanddine 1\n",
      "#fruits 1\n",
      "#kolkata 1\n",
      "#foodfood 1\n",
      "#cholebhature 1\n",
      "#momos 1\n",
      "#snacks 1\n",
      "#eveningfood 1\n"
     ]
    }
   ],
   "source": [
    "# Get the sorted list of hashtags from the top five handles\n",
    "hashtags = Extract_Hashtags(top_five_handles)\n",
    "for i in hashtags:\n",
    "    print(i[0],i[1]) # Print each hashtag and its corresponding count"
   ]
  },
  {
   "cell_type": "markdown",
   "metadata": {},
   "source": [
    "##### Create a csv file with two columns : the word and its frequency"
   ]
  },
  {
   "cell_type": "code",
   "execution_count": 19,
   "metadata": {},
   "outputs": [
    {
     "data": {
      "text/html": [
       "<div>\n",
       "<style scoped>\n",
       "    .dataframe tbody tr th:only-of-type {\n",
       "        vertical-align: middle;\n",
       "    }\n",
       "\n",
       "    .dataframe tbody tr th {\n",
       "        vertical-align: top;\n",
       "    }\n",
       "\n",
       "    .dataframe thead th {\n",
       "        text-align: right;\n",
       "    }\n",
       "</style>\n",
       "<table border=\"1\" class=\"dataframe\">\n",
       "  <thead>\n",
       "    <tr style=\"text-align: right;\">\n",
       "      <th></th>\n",
       "      <th>Words</th>\n",
       "      <th>Frequency</th>\n",
       "    </tr>\n",
       "  </thead>\n",
       "  <tbody>\n",
       "    <tr>\n",
       "      <th>0</th>\n",
       "      <td>#f52community</td>\n",
       "      <td>20</td>\n",
       "    </tr>\n",
       "    <tr>\n",
       "      <th>1</th>\n",
       "      <td>#dilsefoodie</td>\n",
       "      <td>11</td>\n",
       "    </tr>\n",
       "    <tr>\n",
       "      <th>2</th>\n",
       "      <td>#f52grams</td>\n",
       "      <td>8</td>\n",
       "    </tr>\n",
       "    <tr>\n",
       "      <th>3</th>\n",
       "      <td>#dilsecouple</td>\n",
       "      <td>6</td>\n",
       "    </tr>\n",
       "    <tr>\n",
       "      <th>4</th>\n",
       "      <td>#food</td>\n",
       "      <td>5</td>\n",
       "    </tr>\n",
       "    <tr>\n",
       "      <th>5</th>\n",
       "      <td>#StreamOnMax</td>\n",
       "      <td>3</td>\n",
       "    </tr>\n",
       "    <tr>\n",
       "      <th>6</th>\n",
       "      <td>#GiveawayAlert</td>\n",
       "      <td>3</td>\n",
       "    </tr>\n",
       "    <tr>\n",
       "      <th>7</th>\n",
       "      <td>#streetfood</td>\n",
       "      <td>3</td>\n",
       "    </tr>\n",
       "    <tr>\n",
       "      <th>8</th>\n",
       "      <td>#foodie</td>\n",
       "      <td>3</td>\n",
       "    </tr>\n",
       "    <tr>\n",
       "      <th>9</th>\n",
       "      <td>#dehradun</td>\n",
       "      <td>3</td>\n",
       "    </tr>\n",
       "  </tbody>\n",
       "</table>\n",
       "</div>"
      ],
      "text/plain": [
       "            Words  Frequency\n",
       "0   #f52community         20\n",
       "1    #dilsefoodie         11\n",
       "2       #f52grams          8\n",
       "3    #dilsecouple          6\n",
       "4           #food          5\n",
       "5    #StreamOnMax          3\n",
       "6  #GiveawayAlert          3\n",
       "7     #streetfood          3\n",
       "8         #foodie          3\n",
       "9       #dehradun          3"
      ]
     },
     "execution_count": 19,
     "metadata": {},
     "output_type": "execute_result"
    }
   ],
   "source": [
    "df = pd.DataFrame(hashtags, columns=['Words', 'Frequency'])\n",
    "df.to_csv('Hashtags_Frequency.csv', index=False)\n",
    "df.head(10)"
   ]
  },
  {
   "cell_type": "markdown",
   "metadata": {},
   "source": [
    "##### Now, find the hashtags that were most popular among these bloggers"
   ]
  },
  {
   "cell_type": "code",
   "execution_count": 20,
   "metadata": {},
   "outputs": [
    {
     "name": "stdout",
     "output_type": "stream",
     "text": [
      "#f52community\n"
     ]
    }
   ],
   "source": [
    "print(hashtags[0][0])"
   ]
  },
  {
   "cell_type": "markdown",
   "metadata": {},
   "source": [
    "##### Plot a Pie Chart of the top 5 hashtags obtained and the number of times they were used by these bloggers in the scraped posts."
   ]
  },
  {
   "cell_type": "code",
   "execution_count": 21,
   "metadata": {},
   "outputs": [
    {
     "data": {
      "image/png": "[encoded data removed]",
      "text/plain": [
       "<Figure size 640x480 with 1 Axes>"
      ]
     },
     "metadata": {},
     "output_type": "display_data"
    }
   ],
   "source": [
    "# Get the names of the top 5 hashtags\n",
    "hashtag_name = [hashtags[0][0],hashtags[1][0],hashtags[2][0],hashtags[3][0],hashtags[4][0]]\n",
    "# Get the counts of the top 5 hashtags\n",
    "count = [hashtags[0][1],hashtags[1][1],hashtags[2][1],hashtags[3][1],hashtags[4][1]]\n",
    "plt.pie(count,labels=hashtag_name,autopct='%0.2f%%',radius=1,counterclock=False,startangle=90)\n",
    "plt.title('Top 5 Hashtags used by bloggers')\n",
    "plt.show()"
   ]
  },
  {
   "cell_type": "markdown",
   "metadata": {},
   "source": [
    "### Problem 3 : Followers : Likes ratio\n",
    "You need to also calculate average followers : likes ratio for the obtained handles.\n",
    "Followers : Likes ratio is calculated as follows:  \n",
    "1.Find out the likes of the top 10 posts of the 5 handles obtained earlier.  \n",
    "2.Calculate the average likes for a handle.  \n",
    "3.Divide the average likes obtained from the number of followers of the handle to get the average followers:like ratio of each handle.  \n",
    "4.Create a bar graph to depict the above obtained information.  "
   ]
  },
  {
   "cell_type": "code",
   "execution_count": 24,
   "metadata": {},
   "outputs": [],
   "source": [
    "def Followers_Likes_ratio(usernames_list):\n",
    "    # Dictionary to store the followers-to-likes ratio for each username\n",
    "    dic = {}\n",
    "    for username in usernames_list:\n",
    "        # Open the user's profile\n",
    "        Open_Profile(username)\n",
    "        # Find Number of followers\n",
    "        num_of_followers = int(wait.until(EC.presence_of_element_located((By.XPATH, '//li[@class = \"xl565be x1m39q7l x1uw6ca5 x2pgyrj\"]//span[@title]'))).get_attribute('title').replace(',', ''))\n",
    "        # Find and Click on the first post\n",
    "        first_post = wait.until(EC.presence_of_element_located((By.XPATH,'//div[@class = \"_aabd _aa8k  _al3l\"]')))\n",
    "        first_post.click()\n",
    "        sleep(2)\n",
    "        # List to store the number of likes for each post\n",
    "        num_of_likes = []\n",
    "        count = 0\n",
    "        while True:\n",
    "            try:\n",
    "                likes = int(wait.until(EC.presence_of_element_located((By.XPATH, '//span[@class = \"x193iq5w xeuugli x1fj9vlw x13faqbe x1vvkbs xt0psk2 x1i0vuye xvs91rp x1s688f x5n08af x10wh9bi x1wdrske x8viiok x18hxmgj\"]'))).text.split()[0].replace(',',''))\n",
    "                num_of_likes.append(likes) # Append the number of likes to the list\n",
    "                count += 1\n",
    "            except: # If total likes of post can only be seen by owner of the profile\n",
    "                # it will pass and do not count that post\n",
    "                pass\n",
    "            if count >= 10: # Exit the loop after 10 posts\n",
    "                break\n",
    "            next_image = wait.until(EC.presence_of_element_located((By.XPATH, '//div[@class = \" _aaqg _aaqh\"]')))\n",
    "            next_image.click() # Click on the next image\n",
    "            sleep(1)\n",
    "        close = wait.until(EC.presence_of_element_located((By.XPATH, '//div[@class = \"x10l6tqk x160vmok x1eu8d0j x1vjfegm\"]')))\n",
    "        close.click() # Close the image viewer\n",
    "        avg_likes = (sum(num_of_likes) // 10) # Calculate the average number of likes\n",
    "        followers_likes_ratio = num_of_followers // avg_likes # Calculate the followers-to-likes ratio\n",
    "        dic[username] = followers_likes_ratio # Store the username and its corresponding ratio in the dictionary\n",
    "    return dic"
   ]
  },
  {
   "cell_type": "code",
   "execution_count": 33,
   "metadata": {},
   "outputs": [
    {
     "name": "stdout",
     "output_type": "stream",
     "text": [
      "foodnetwork - 5663\n",
      "food52 - 236\n",
      "insiderfood - 423\n",
      "yourfoodlab - 106\n",
      "dilsefoodie - 150\n"
     ]
    }
   ],
   "source": [
    "# Calculate the followers-to-likes ratio for the top five handles\n",
    "follower_like_ratio = Followers_Likes_ratio(top_five_handles)\n",
    "for i in follower_like_ratio:\n",
    "    print(i,'-',follower_like_ratio[i]) # Print the username and its corresponding followers-to-likes ratio"
   ]
  },
  {
   "cell_type": "markdown",
   "metadata": {},
   "source": [
    "##### Create a bar graph to depict the above obtained information."
   ]
  },
  {
   "cell_type": "code",
   "execution_count": 34,
   "metadata": {},
   "outputs": [
    {
     "data": {
      "image/png": "[encoded data removed]",
      "text/plain": [
       "<Figure size 640x480 with 1 Axes>"
      ]
     },
     "metadata": {},
     "output_type": "display_data"
    }
   ],
   "source": [
    "plt.bar(follower_like_ratio.keys(),follower_like_ratio.values())\n",
    "plt.ylabel('Followers : Likes Ratio')\n",
    "plt.xlabel('Top Five Handles')\n",
    "plt.title('Followers : Like Ratio of Top Five Handles')\n",
    "plt.show()"
   ]
  }
 ],
 "metadata": {
  "kernelspec": {
   "display_name": "Python 3 (ipykernel)",
   "language": "python",
   "name": "python3"
  },
  "language_info": {
   "codemirror_mode": {
    "name": "ipython",
    "version": 3
   },
   "file_extension": ".py",
   "mimetype": "text/x-python",
   "name": "python",
   "nbconvert_exporter": "python",
   "pygments_lexer": "ipython3",
   "version": "3.10.9"
  }
 },
 "nbformat": 4,
 "nbformat_minor": 2
}
